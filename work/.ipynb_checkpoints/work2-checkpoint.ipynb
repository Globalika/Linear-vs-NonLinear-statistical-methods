{
 "cells": [
  {
   "cell_type": "code",
   "execution_count": 252,
   "id": "5feb64a4",
   "metadata": {
    "papermill": {
     "duration": 1.455372,
     "end_time": "2022-05-07T19:19:43.443721",
     "exception": false,
     "start_time": "2022-05-07T19:19:41.988349",
     "status": "completed"
    },
    "tags": []
   },
   "outputs": [],
   "source": [
    "import pandas as pd\n",
    "import numpy as np\n",
    "import matplotlib.pyplot as plt\n",
    "import seaborn as sns\n",
    "import warnings\n",
    "warnings.filterwarnings('ignore')\n",
    "\n",
    "from sklearn.metrics import mean_squared_error"
   ]
  },
  {
   "cell_type": "markdown",
   "id": "866a1442",
   "metadata": {},
   "source": [
    "# Custom Logistic Regression Implementation"
   ]
  },
  {
   "cell_type": "code",
   "execution_count": 217,
   "id": "2162e1b4",
   "metadata": {},
   "outputs": [],
   "source": [
    "from sklearn.utils.validation import check_X_y, check_array\n",
    "\n",
    "class CustomLogisticRegression():\n",
    "    def __init__(self, normalize=True, learning_rate=0.01, num_iters=1000):\n",
    "        self.normalize = normalize\n",
    "        self.is_fitted = False\n",
    "        self.learning_rate = learning_rate\n",
    "        self.num_iters = num_iters\n",
    "\n",
    "    def __str__(self):\n",
    "        return f\"Logistic Regression, alpha: {self.learning_rate}, iters: {self.num_iters}\"\n",
    "        \n",
    "    def __normalize(self, X):\n",
    "        mean = np.zeros([X.shape[1]])\n",
    "        std  = np.ones([X.shape[1]])\n",
    "        \n",
    "        for i in range(X.shape[1]):\n",
    "            if (np.std(X[:, i]) != 0):\n",
    "                mean[i] = np.mean(X[:, i])\n",
    "                std[i] = np.std(X[:, i])\n",
    "        X_new = (X - mean) / std\n",
    "        return X_new, mean, std\n",
    "\n",
    "    def __prepare_X(self, X):\n",
    "        m = X.shape[0]\n",
    "        ones = np.ones((m, 1))\n",
    "        X_new = np.array(X[:])\n",
    "        X_new = np.column_stack((ones, X_new))\n",
    "        return X_new\n",
    "\n",
    "    def __derivative(self, X, y, theta):\n",
    "        m = X.shape[0]\n",
    "        h0 = self.__hypothesis(X, theta)\n",
    "        d_theta = (1 / m) * X.T.dot((h0 - y))\n",
    "        return d_theta\n",
    "\n",
    "    def __sigmoid(self, z):\n",
    "        return 1 / (1 + np.exp(-z))\n",
    "\n",
    "    def __hypothesis(self, X, theta):\n",
    "        h_thetha = np.dot(X, theta)\n",
    "        return self.__sigmoid(h_thetha)\n",
    "    \n",
    "    def __gradient_descent(self, X, y, theta, epsilon):\n",
    "        m = X.shape[0]\n",
    "        J_history = []\n",
    "        J = self.cost_function(X, y, theta)\n",
    "\n",
    "        J_history.append(J)\n",
    "        for i in range(self.num_iters):\n",
    "            delta = self.__derivative(X, y, theta)\n",
    "            theta = theta - self.learning_rate * delta\n",
    "            J = self.cost_function(X, y, theta)\n",
    "\n",
    "            J_history.append(J)\n",
    "            \n",
    "            if i > 1 and abs(J_history[-2] - J_history[-1]) < epsilon:\n",
    "                break\n",
    "                \n",
    "        return theta, J_history\n",
    "\n",
    "    def fit(self, X, y, learning_rate=0.001, num_iters=1000, epsilon=1e-8):\n",
    "        # Check that X and y have correct shape\n",
    "        X, y = check_X_y(X, y)\n",
    "\n",
    "        self.y_ = y\n",
    "        self.num_iters = num_iters\n",
    "        self.learning_rate = learning_rate\n",
    "\n",
    "        if self.normalize == True:\n",
    "            X_norm, self.__mean, self.__std = self.__normalize(X)\n",
    "            self.X_ = self.__prepare_X(X_norm)\n",
    "        \n",
    "        else:\n",
    "            self.X_ = self.__prepare_X(X)\n",
    "\n",
    "        theta = np.zeros(self.X_.shape[1])\n",
    "        self.coef_, self.Js = self.__gradient_descent(self.X_, self.y_, theta, epsilon)\n",
    "        self.is_fitted = True\n",
    "\n",
    "    def predict(self, X):\n",
    "        pred = self.predict_proba(X)\n",
    "        return (pred >= 0.5).astype(int)\n",
    "\n",
    "    def predict_proba(self, X):\n",
    "        # Input validation\n",
    "        X = check_array(X)\n",
    "\n",
    "        if self.normalize:\n",
    "            X_norm = (X - self.__mean) / self.__std\n",
    "            X_proc = self.__prepare_X(X_norm)\n",
    "        else:\n",
    "            X_proc = self.__prepare_X(X)\n",
    "\n",
    "        pred = self.__hypothesis(X_proc, self.coef_)        \n",
    "        return pred\n",
    "\n",
    "    def cost_function(self, X, y, theta):\n",
    "        m = X.shape[0]\n",
    "        if m == 0:\n",
    "            return None\n",
    "\n",
    "        h0 = self.__hypothesis(X, theta)\n",
    "        J = (1 / m) * ( (-y.T).dot(np.log(h0)) - (1 - y).T.dot(np.log(1 - h0)) )\n",
    "        return J\n",
    "    \n",
    "    def get_params(self, deep=True):\n",
    "        return {\n",
    "                \"learning_rate\": self.learning_rate,\n",
    "                \"num_iters\": self.num_iters\n",
    "               }\n",
    "    \n",
    "    def set_params(self, **parameters):\n",
    "        for parameter, value in parameters.items():\n",
    "            setattr(self, parameter, value)\n",
    "        return self"
   ]
  },
  {
   "cell_type": "markdown",
   "id": "d23f68e0",
   "metadata": {},
   "source": [
    "# Loading and Analysing Dataset"
   ]
  },
  {
   "cell_type": "code",
   "execution_count": 21,
   "id": "cf9b4736",
   "metadata": {
    "papermill": {
     "duration": 0.091979,
     "end_time": "2022-05-07T19:19:43.574509",
     "exception": false,
     "start_time": "2022-05-07T19:19:43.482530",
     "status": "completed"
    },
    "tags": []
   },
   "outputs": [
    {
     "data": {
      "text/html": [
       "<div>\n",
       "<style scoped>\n",
       "    .dataframe tbody tr th:only-of-type {\n",
       "        vertical-align: middle;\n",
       "    }\n",
       "\n",
       "    .dataframe tbody tr th {\n",
       "        vertical-align: top;\n",
       "    }\n",
       "\n",
       "    .dataframe thead th {\n",
       "        text-align: right;\n",
       "    }\n",
       "</style>\n",
       "<table border=\"1\" class=\"dataframe\">\n",
       "  <thead>\n",
       "    <tr style=\"text-align: right;\">\n",
       "      <th></th>\n",
       "      <th>Age</th>\n",
       "      <th>Sex</th>\n",
       "      <th>ChestPainType</th>\n",
       "      <th>RestingBP</th>\n",
       "      <th>Cholesterol</th>\n",
       "      <th>FastingBS</th>\n",
       "      <th>RestingECG</th>\n",
       "      <th>MaxHR</th>\n",
       "      <th>ExerciseAngina</th>\n",
       "      <th>Oldpeak</th>\n",
       "      <th>ST_Slope</th>\n",
       "      <th>HeartDisease</th>\n",
       "    </tr>\n",
       "  </thead>\n",
       "  <tbody>\n",
       "    <tr>\n",
       "      <th>0</th>\n",
       "      <td>40</td>\n",
       "      <td>M</td>\n",
       "      <td>ATA</td>\n",
       "      <td>140</td>\n",
       "      <td>289</td>\n",
       "      <td>0</td>\n",
       "      <td>Normal</td>\n",
       "      <td>172</td>\n",
       "      <td>N</td>\n",
       "      <td>0.0</td>\n",
       "      <td>Up</td>\n",
       "      <td>0</td>\n",
       "    </tr>\n",
       "    <tr>\n",
       "      <th>1</th>\n",
       "      <td>49</td>\n",
       "      <td>F</td>\n",
       "      <td>NAP</td>\n",
       "      <td>160</td>\n",
       "      <td>180</td>\n",
       "      <td>0</td>\n",
       "      <td>Normal</td>\n",
       "      <td>156</td>\n",
       "      <td>N</td>\n",
       "      <td>1.0</td>\n",
       "      <td>Flat</td>\n",
       "      <td>1</td>\n",
       "    </tr>\n",
       "    <tr>\n",
       "      <th>2</th>\n",
       "      <td>37</td>\n",
       "      <td>M</td>\n",
       "      <td>ATA</td>\n",
       "      <td>130</td>\n",
       "      <td>283</td>\n",
       "      <td>0</td>\n",
       "      <td>ST</td>\n",
       "      <td>98</td>\n",
       "      <td>N</td>\n",
       "      <td>0.0</td>\n",
       "      <td>Up</td>\n",
       "      <td>0</td>\n",
       "    </tr>\n",
       "    <tr>\n",
       "      <th>3</th>\n",
       "      <td>48</td>\n",
       "      <td>F</td>\n",
       "      <td>ASY</td>\n",
       "      <td>138</td>\n",
       "      <td>214</td>\n",
       "      <td>0</td>\n",
       "      <td>Normal</td>\n",
       "      <td>108</td>\n",
       "      <td>Y</td>\n",
       "      <td>1.5</td>\n",
       "      <td>Flat</td>\n",
       "      <td>1</td>\n",
       "    </tr>\n",
       "    <tr>\n",
       "      <th>4</th>\n",
       "      <td>54</td>\n",
       "      <td>M</td>\n",
       "      <td>NAP</td>\n",
       "      <td>150</td>\n",
       "      <td>195</td>\n",
       "      <td>0</td>\n",
       "      <td>Normal</td>\n",
       "      <td>122</td>\n",
       "      <td>N</td>\n",
       "      <td>0.0</td>\n",
       "      <td>Up</td>\n",
       "      <td>0</td>\n",
       "    </tr>\n",
       "  </tbody>\n",
       "</table>\n",
       "</div>"
      ],
      "text/plain": [
       "   Age Sex ChestPainType  RestingBP  Cholesterol  FastingBS RestingECG  MaxHR  \\\n",
       "0   40   M           ATA        140          289          0     Normal    172   \n",
       "1   49   F           NAP        160          180          0     Normal    156   \n",
       "2   37   M           ATA        130          283          0         ST     98   \n",
       "3   48   F           ASY        138          214          0     Normal    108   \n",
       "4   54   M           NAP        150          195          0     Normal    122   \n",
       "\n",
       "  ExerciseAngina  Oldpeak ST_Slope  HeartDisease  \n",
       "0              N      0.0       Up             0  \n",
       "1              N      1.0     Flat             1  \n",
       "2              N      0.0       Up             0  \n",
       "3              Y      1.5     Flat             1  \n",
       "4              N      0.0       Up             0  "
      ]
     },
     "execution_count": 21,
     "metadata": {},
     "output_type": "execute_result"
    }
   ],
   "source": [
    "# load data\n",
    "df = pd.read_csv('heart.csv')\n",
    "df.head()"
   ]
  },
  {
   "cell_type": "markdown",
   "id": "f9ae162e",
   "metadata": {
    "papermill": {
     "duration": 0.039294,
     "end_time": "2022-05-07T19:19:43.652279",
     "exception": false,
     "start_time": "2022-05-07T19:19:43.612985",
     "status": "completed"
    },
    "tags": []
   },
   "source": [
    "####  Data Dictionary\n",
    "- Age: age of the patient [years]\n",
    "- Sex: sex of the patient [M: Male, F: Female]\n",
    "- ChestPainType: chest pain type [TA: Typical Angina, ATA: Atypical Angina, NAP: Non-Anginal Pain, ASY: Asymptomatic]\n",
    "- RestingBP: resting blood pressure [mm Hg]\n",
    "- Cholesterol: serum cholesterol [mm/dl]\n",
    "- FastingBS: fasting blood sugar [1: if FastingBS > 120 mg/dl, 0: otherwise]\n",
    "- RestingECG: resting electrocardiogram results [Normal: Normal, ST: having ST-T wave abnormality (T wave inversions and/or - ST elevation or depression of > 0.05 mV), LVH: showing probable or definite left ventricular hypertrophy by Estes' criteria]     \n",
    "- MaxHR: maximum heart rate achieved [Numeric value between 60 and 202]\n",
    "- ExerciseAngina: exercise-induced angina [Y: Yes, N: No]\n",
    "- Oldpeak: oldpeak = ST [Numeric value measured in depression]\n",
    "- ST_Slope: the slope of the peak exercise ST segment [Up: upsloping, Flat: flat, Down: downsloping]\n",
    "- HeartDisease: output class [1: heart disease, 0: Normal]"
   ]
  },
  {
   "cell_type": "markdown",
   "id": "bb3ffc17",
   "metadata": {
    "papermill": {
     "duration": 0.042397,
     "end_time": "2022-05-07T19:19:43.734391",
     "exception": false,
     "start_time": "2022-05-07T19:19:43.691994",
     "status": "completed"
    },
    "tags": []
   },
   "source": [
    "#### Exploratory Data Analysis"
   ]
  },
  {
   "cell_type": "code",
   "execution_count": 22,
   "id": "9582bc9a",
   "metadata": {
    "papermill": {
     "duration": 0.047703,
     "end_time": "2022-05-07T19:19:43.824099",
     "exception": false,
     "start_time": "2022-05-07T19:19:43.776396",
     "status": "completed"
    },
    "tags": []
   },
   "outputs": [
    {
     "data": {
      "text/plain": [
       "(918, 12)"
      ]
     },
     "execution_count": 22,
     "metadata": {},
     "output_type": "execute_result"
    }
   ],
   "source": [
    "# data shape\n",
    "df.shape"
   ]
  },
  {
   "cell_type": "code",
   "execution_count": 23,
   "id": "d8c37e0a",
   "metadata": {
    "papermill": {
     "duration": 0.075837,
     "end_time": "2022-05-07T19:19:43.942127",
     "exception": false,
     "start_time": "2022-05-07T19:19:43.866290",
     "status": "completed"
    },
    "tags": []
   },
   "outputs": [
    {
     "name": "stdout",
     "output_type": "stream",
     "text": [
      "<class 'pandas.core.frame.DataFrame'>\n",
      "RangeIndex: 918 entries, 0 to 917\n",
      "Data columns (total 12 columns):\n",
      " #   Column          Non-Null Count  Dtype  \n",
      "---  ------          --------------  -----  \n",
      " 0   Age             918 non-null    int64  \n",
      " 1   Sex             918 non-null    object \n",
      " 2   ChestPainType   918 non-null    object \n",
      " 3   RestingBP       918 non-null    int64  \n",
      " 4   Cholesterol     918 non-null    int64  \n",
      " 5   FastingBS       918 non-null    int64  \n",
      " 6   RestingECG      918 non-null    object \n",
      " 7   MaxHR           918 non-null    int64  \n",
      " 8   ExerciseAngina  918 non-null    object \n",
      " 9   Oldpeak         918 non-null    float64\n",
      " 10  ST_Slope        918 non-null    object \n",
      " 11  HeartDisease    918 non-null    int64  \n",
      "dtypes: float64(1), int64(6), object(5)\n",
      "memory usage: 86.2+ KB\n"
     ]
    }
   ],
   "source": [
    "df.info()"
   ]
  },
  {
   "cell_type": "code",
   "execution_count": 24,
   "id": "05312ff4",
   "metadata": {
    "papermill": {
     "duration": 0.061163,
     "end_time": "2022-05-07T19:19:44.050937",
     "exception": false,
     "start_time": "2022-05-07T19:19:43.989774",
     "status": "completed"
    },
    "tags": []
   },
   "outputs": [
    {
     "data": {
      "text/plain": [
       "Age                50\n",
       "Sex                 2\n",
       "ChestPainType       4\n",
       "RestingBP          67\n",
       "Cholesterol       222\n",
       "FastingBS           2\n",
       "RestingECG          3\n",
       "MaxHR             119\n",
       "ExerciseAngina      2\n",
       "Oldpeak            53\n",
       "ST_Slope            3\n",
       "HeartDisease        2\n",
       "dtype: int64"
      ]
     },
     "execution_count": 24,
     "metadata": {},
     "output_type": "execute_result"
    }
   ],
   "source": [
    "# show unique values\n",
    "df.nunique()"
   ]
  },
  {
   "cell_type": "code",
   "execution_count": 25,
   "id": "be6c37b3",
   "metadata": {
    "papermill": {
     "duration": 0.089379,
     "end_time": "2022-05-07T19:19:44.182618",
     "exception": false,
     "start_time": "2022-05-07T19:19:44.093239",
     "status": "completed"
    },
    "tags": []
   },
   "outputs": [
    {
     "data": {
      "text/html": [
       "<div>\n",
       "<style scoped>\n",
       "    .dataframe tbody tr th:only-of-type {\n",
       "        vertical-align: middle;\n",
       "    }\n",
       "\n",
       "    .dataframe tbody tr th {\n",
       "        vertical-align: top;\n",
       "    }\n",
       "\n",
       "    .dataframe thead th {\n",
       "        text-align: right;\n",
       "    }\n",
       "</style>\n",
       "<table border=\"1\" class=\"dataframe\">\n",
       "  <thead>\n",
       "    <tr style=\"text-align: right;\">\n",
       "      <th></th>\n",
       "      <th>Age</th>\n",
       "      <th>RestingBP</th>\n",
       "      <th>Cholesterol</th>\n",
       "      <th>FastingBS</th>\n",
       "      <th>MaxHR</th>\n",
       "      <th>Oldpeak</th>\n",
       "      <th>HeartDisease</th>\n",
       "    </tr>\n",
       "  </thead>\n",
       "  <tbody>\n",
       "    <tr>\n",
       "      <th>count</th>\n",
       "      <td>918.000000</td>\n",
       "      <td>918.000000</td>\n",
       "      <td>918.000000</td>\n",
       "      <td>918.000000</td>\n",
       "      <td>918.000000</td>\n",
       "      <td>918.000000</td>\n",
       "      <td>918.000000</td>\n",
       "    </tr>\n",
       "    <tr>\n",
       "      <th>mean</th>\n",
       "      <td>53.510893</td>\n",
       "      <td>132.396514</td>\n",
       "      <td>198.799564</td>\n",
       "      <td>0.233115</td>\n",
       "      <td>136.809368</td>\n",
       "      <td>0.887364</td>\n",
       "      <td>0.553377</td>\n",
       "    </tr>\n",
       "    <tr>\n",
       "      <th>std</th>\n",
       "      <td>9.432617</td>\n",
       "      <td>18.514154</td>\n",
       "      <td>109.384145</td>\n",
       "      <td>0.423046</td>\n",
       "      <td>25.460334</td>\n",
       "      <td>1.066570</td>\n",
       "      <td>0.497414</td>\n",
       "    </tr>\n",
       "    <tr>\n",
       "      <th>min</th>\n",
       "      <td>28.000000</td>\n",
       "      <td>0.000000</td>\n",
       "      <td>0.000000</td>\n",
       "      <td>0.000000</td>\n",
       "      <td>60.000000</td>\n",
       "      <td>-2.600000</td>\n",
       "      <td>0.000000</td>\n",
       "    </tr>\n",
       "    <tr>\n",
       "      <th>25%</th>\n",
       "      <td>47.000000</td>\n",
       "      <td>120.000000</td>\n",
       "      <td>173.250000</td>\n",
       "      <td>0.000000</td>\n",
       "      <td>120.000000</td>\n",
       "      <td>0.000000</td>\n",
       "      <td>0.000000</td>\n",
       "    </tr>\n",
       "    <tr>\n",
       "      <th>50%</th>\n",
       "      <td>54.000000</td>\n",
       "      <td>130.000000</td>\n",
       "      <td>223.000000</td>\n",
       "      <td>0.000000</td>\n",
       "      <td>138.000000</td>\n",
       "      <td>0.600000</td>\n",
       "      <td>1.000000</td>\n",
       "    </tr>\n",
       "    <tr>\n",
       "      <th>75%</th>\n",
       "      <td>60.000000</td>\n",
       "      <td>140.000000</td>\n",
       "      <td>267.000000</td>\n",
       "      <td>0.000000</td>\n",
       "      <td>156.000000</td>\n",
       "      <td>1.500000</td>\n",
       "      <td>1.000000</td>\n",
       "    </tr>\n",
       "    <tr>\n",
       "      <th>max</th>\n",
       "      <td>77.000000</td>\n",
       "      <td>200.000000</td>\n",
       "      <td>603.000000</td>\n",
       "      <td>1.000000</td>\n",
       "      <td>202.000000</td>\n",
       "      <td>6.200000</td>\n",
       "      <td>1.000000</td>\n",
       "    </tr>\n",
       "  </tbody>\n",
       "</table>\n",
       "</div>"
      ],
      "text/plain": [
       "              Age   RestingBP  Cholesterol   FastingBS       MaxHR  \\\n",
       "count  918.000000  918.000000   918.000000  918.000000  918.000000   \n",
       "mean    53.510893  132.396514   198.799564    0.233115  136.809368   \n",
       "std      9.432617   18.514154   109.384145    0.423046   25.460334   \n",
       "min     28.000000    0.000000     0.000000    0.000000   60.000000   \n",
       "25%     47.000000  120.000000   173.250000    0.000000  120.000000   \n",
       "50%     54.000000  130.000000   223.000000    0.000000  138.000000   \n",
       "75%     60.000000  140.000000   267.000000    0.000000  156.000000   \n",
       "max     77.000000  200.000000   603.000000    1.000000  202.000000   \n",
       "\n",
       "          Oldpeak  HeartDisease  \n",
       "count  918.000000    918.000000  \n",
       "mean     0.887364      0.553377  \n",
       "std      1.066570      0.497414  \n",
       "min     -2.600000      0.000000  \n",
       "25%      0.000000      0.000000  \n",
       "50%      0.600000      1.000000  \n",
       "75%      1.500000      1.000000  \n",
       "max      6.200000      1.000000  "
      ]
     },
     "execution_count": 25,
     "metadata": {},
     "output_type": "execute_result"
    }
   ],
   "source": [
    "# data basic statistics\n",
    "df.describe()"
   ]
  },
  {
   "cell_type": "code",
   "execution_count": 26,
   "id": "58b929c4",
   "metadata": {
    "papermill": {
     "duration": 0.057462,
     "end_time": "2022-05-07T19:19:44.290197",
     "exception": false,
     "start_time": "2022-05-07T19:19:44.232735",
     "status": "completed"
    },
    "tags": []
   },
   "outputs": [
    {
     "data": {
      "text/plain": [
       "Age               0\n",
       "Sex               0\n",
       "ChestPainType     0\n",
       "RestingBP         0\n",
       "Cholesterol       0\n",
       "FastingBS         0\n",
       "RestingECG        0\n",
       "MaxHR             0\n",
       "ExerciseAngina    0\n",
       "Oldpeak           0\n",
       "ST_Slope          0\n",
       "HeartDisease      0\n",
       "dtype: int64"
      ]
     },
     "execution_count": 26,
     "metadata": {},
     "output_type": "execute_result"
    }
   ],
   "source": [
    "# missing values in decerding order\n",
    "df.isnull().sum().sort_values(ascending=False)"
   ]
  },
  {
   "cell_type": "code",
   "execution_count": 27,
   "id": "d66e8fc4",
   "metadata": {
    "papermill": {
     "duration": 0.057815,
     "end_time": "2022-05-07T19:19:44.390253",
     "exception": false,
     "start_time": "2022-05-07T19:19:44.332438",
     "status": "completed"
    },
    "tags": []
   },
   "outputs": [
    {
     "data": {
      "text/plain": [
       "0"
      ]
     },
     "execution_count": 27,
     "metadata": {},
     "output_type": "execute_result"
    }
   ],
   "source": [
    "# duplicated values\n",
    "df.duplicated().sum()"
   ]
  },
  {
   "cell_type": "code",
   "execution_count": 28,
   "id": "6a550faf",
   "metadata": {
    "papermill": {
     "duration": 0.064992,
     "end_time": "2022-05-07T19:19:44.499111",
     "exception": false,
     "start_time": "2022-05-07T19:19:44.434119",
     "status": "completed"
    },
    "tags": []
   },
   "outputs": [
    {
     "name": "stdout",
     "output_type": "stream",
     "text": [
      "Categorical features:\n",
      "     Sex ChestPainType RestingECG ExerciseAngina ST_Slope\n",
      "0     M           ATA     Normal              N       Up\n",
      "1     F           NAP     Normal              N     Flat\n",
      "2     M           ATA         ST              N       Up\n",
      "3     F           ASY     Normal              Y     Flat\n",
      "4     M           NAP     Normal              N       Up\n",
      "..   ..           ...        ...            ...      ...\n",
      "913   M            TA     Normal              N     Flat\n",
      "914   M           ASY     Normal              N     Flat\n",
      "915   M           ASY     Normal              Y     Flat\n",
      "916   F           ATA        LVH              N     Flat\n",
      "917   M           NAP     Normal              N       Up\n",
      "\n",
      "[918 rows x 5 columns]\n",
      "Numerical features:\n",
      "      Age  RestingBP  Cholesterol  FastingBS  MaxHR  Oldpeak  HeartDisease\n",
      "0     40        140          289          0    172      0.0             0\n",
      "1     49        160          180          0    156      1.0             1\n",
      "2     37        130          283          0     98      0.0             0\n",
      "3     48        138          214          0    108      1.5             1\n",
      "4     54        150          195          0    122      0.0             0\n",
      "..   ...        ...          ...        ...    ...      ...           ...\n",
      "913   45        110          264          0    132      1.2             1\n",
      "914   68        144          193          1    141      3.4             1\n",
      "915   57        130          131          0    115      1.2             1\n",
      "916   57        130          236          0    174      0.0             1\n",
      "917   38        138          175          0    173      0.0             0\n",
      "\n",
      "[918 rows x 7 columns]\n"
     ]
    }
   ],
   "source": [
    "# numerical and categorical features \n",
    "Categorical = df.select_dtypes(include=['object'])\n",
    "Numerical = df.select_dtypes(include=['int64', 'float64'])\n",
    "print('Categorical features:\\n', Categorical)\n",
    "print('Numerical features:\\n', Numerical)"
   ]
  },
  {
   "cell_type": "code",
   "execution_count": 29,
   "id": "2c32a737",
   "metadata": {
    "papermill": {
     "duration": 0.055884,
     "end_time": "2022-05-07T19:19:44.597063",
     "exception": false,
     "start_time": "2022-05-07T19:19:44.541179",
     "status": "completed"
    },
    "tags": []
   },
   "outputs": [
    {
     "data": {
      "text/plain": [
       "1    508\n",
       "0    410\n",
       "Name: HeartDisease, dtype: int64"
      ]
     },
     "execution_count": 29,
     "metadata": {},
     "output_type": "execute_result"
    }
   ],
   "source": [
    "# count target variable\n",
    "df['HeartDisease'].value_counts()"
   ]
  },
  {
   "cell_type": "markdown",
   "id": "d396ff9b",
   "metadata": {
    "papermill": {
     "duration": 0.043718,
     "end_time": "2022-05-07T19:19:44.685425",
     "exception": false,
     "start_time": "2022-05-07T19:19:44.641707",
     "status": "completed"
    },
    "tags": []
   },
   "source": [
    "#### Visualization"
   ]
  },
  {
   "cell_type": "code",
   "execution_count": 30,
   "id": "360330b4",
   "metadata": {
    "papermill": {
     "duration": 0.205656,
     "end_time": "2022-05-07T19:19:44.934245",
     "exception": false,
     "start_time": "2022-05-07T19:19:44.728589",
     "status": "completed"
    },
    "tags": []
   },
   "outputs": [],
   "source": [
    "# Normal and Heart Disease with target column\n",
    "# plt.figure(figsize=(10,5))\n",
    "# plt.pie(df['HeartDisease'].value_counts(), labels=['Heart Disease[1]', 'Normal[0]'], autopct='%1.1f%%')\n",
    "# plt.show()"
   ]
  },
  {
   "cell_type": "code",
   "execution_count": 31,
   "id": "3d40fcc4",
   "metadata": {
    "papermill": {
     "duration": 0.522014,
     "end_time": "2022-05-07T19:19:45.526383",
     "exception": false,
     "start_time": "2022-05-07T19:19:45.004369",
     "status": "completed"
    },
    "tags": []
   },
   "outputs": [],
   "source": [
    "# # ploting corelation matrix\n",
    "# sns.heatmap(df.corr(), annot=True)\n",
    "# plt.show()"
   ]
  },
  {
   "cell_type": "code",
   "execution_count": 32,
   "id": "75fdcef7",
   "metadata": {
    "papermill": {
     "duration": 8.839439,
     "end_time": "2022-05-07T19:19:54.412994",
     "exception": false,
     "start_time": "2022-05-07T19:19:45.573555",
     "status": "completed"
    },
    "tags": []
   },
   "outputs": [],
   "source": [
    "# # ploting numerical features with target\n",
    "# for i in Numerical:\n",
    "#     plt.figure(figsize=(10,5))\n",
    "#     sns.countplot(x=i, data=df, hue='HeartDisease')\n",
    "#     plt.legend(['Normal', 'Heart Disease'])\n",
    "#     plt.title(i)\n",
    "#     plt.show()"
   ]
  },
  {
   "cell_type": "code",
   "execution_count": 33,
   "id": "eb465798",
   "metadata": {
    "papermill": {
     "duration": 1.084988,
     "end_time": "2022-05-07T19:19:55.548444",
     "exception": false,
     "start_time": "2022-05-07T19:19:54.463456",
     "status": "completed"
    },
    "tags": []
   },
   "outputs": [],
   "source": [
    "# #ploting categorical features with target\n",
    "# for i in Categorical:\n",
    "#     plt.figure(figsize=(10,5))\n",
    "#     sns.countplot(x=i, data=df, hue='HeartDisease', edgecolor='black')\n",
    "#     plt.legend(['Normal', 'Heart Disease'])\n",
    "#     plt.title(i)\n",
    "#     plt.show()"
   ]
  },
  {
   "cell_type": "code",
   "execution_count": 34,
   "id": "3042c602",
   "metadata": {
    "papermill": {
     "duration": 10.75018,
     "end_time": "2022-05-07T19:20:06.354738",
     "exception": false,
     "start_time": "2022-05-07T19:19:55.604558",
     "status": "completed"
    },
    "tags": []
   },
   "outputs": [],
   "source": [
    "# #pairplot using target HeartDisease Column\n",
    "# sns.pairplot(df, hue='HeartDisease')\n",
    "# plt.show()"
   ]
  },
  {
   "cell_type": "code",
   "execution_count": 35,
   "id": "e4373e0b",
   "metadata": {
    "papermill": {
     "duration": 0.412835,
     "end_time": "2022-05-07T19:20:06.839122",
     "exception": false,
     "start_time": "2022-05-07T19:20:06.426287",
     "status": "completed"
    },
    "tags": []
   },
   "outputs": [],
   "source": [
    "# # distribution plot of Age for HeartDisease\n",
    "# sns.distplot(df['Age'][df['HeartDisease'] == 1], kde=True, color='red', label='Heart Disease')\n",
    "# sns.distplot(df['Age'][df['HeartDisease'] == 0], kde=True, color='green', label='Normal')\n",
    "# plt.legend()"
   ]
  },
  {
   "cell_type": "code",
   "execution_count": 36,
   "id": "a94da865-5b89-4cc0-96db-e0f245e257fb",
   "metadata": {},
   "outputs": [],
   "source": [
    "# numerical_features"
   ]
  },
  {
   "cell_type": "code",
   "execution_count": null,
   "id": "31f3ab64-3c71-4af7-8104-0b40e7d98a33",
   "metadata": {},
   "outputs": [],
   "source": []
  },
  {
   "cell_type": "markdown",
   "id": "d41af613",
   "metadata": {
    "papermill": {
     "duration": 0.072756,
     "end_time": "2022-05-07T19:20:06.982344",
     "exception": false,
     "start_time": "2022-05-07T19:20:06.909588",
     "status": "completed"
    },
    "tags": []
   },
   "source": [
    "#### Data Preprocessing"
   ]
  },
  {
   "cell_type": "code",
   "execution_count": 37,
   "id": "ff38bede",
   "metadata": {
    "papermill": {
     "duration": 0.247991,
     "end_time": "2022-05-07T19:20:07.301175",
     "exception": false,
     "start_time": "2022-05-07T19:20:07.053184",
     "status": "completed"
    },
    "tags": []
   },
   "outputs": [
    {
     "data": {
      "text/html": [
       "<div>\n",
       "<style scoped>\n",
       "    .dataframe tbody tr th:only-of-type {\n",
       "        vertical-align: middle;\n",
       "    }\n",
       "\n",
       "    .dataframe tbody tr th {\n",
       "        vertical-align: top;\n",
       "    }\n",
       "\n",
       "    .dataframe thead th {\n",
       "        text-align: right;\n",
       "    }\n",
       "</style>\n",
       "<table border=\"1\" class=\"dataframe\">\n",
       "  <thead>\n",
       "    <tr style=\"text-align: right;\">\n",
       "      <th></th>\n",
       "      <th>Age</th>\n",
       "      <th>RestingBP</th>\n",
       "      <th>Cholesterol</th>\n",
       "      <th>FastingBS</th>\n",
       "      <th>MaxHR</th>\n",
       "      <th>Oldpeak</th>\n",
       "      <th>HeartDisease</th>\n",
       "    </tr>\n",
       "  </thead>\n",
       "  <tbody>\n",
       "    <tr>\n",
       "      <th>0</th>\n",
       "      <td>12</td>\n",
       "      <td>41</td>\n",
       "      <td>147</td>\n",
       "      <td>0</td>\n",
       "      <td>98</td>\n",
       "      <td>10</td>\n",
       "      <td>0</td>\n",
       "    </tr>\n",
       "    <tr>\n",
       "      <th>1</th>\n",
       "      <td>21</td>\n",
       "      <td>55</td>\n",
       "      <td>40</td>\n",
       "      <td>0</td>\n",
       "      <td>82</td>\n",
       "      <td>20</td>\n",
       "      <td>1</td>\n",
       "    </tr>\n",
       "    <tr>\n",
       "      <th>2</th>\n",
       "      <td>9</td>\n",
       "      <td>31</td>\n",
       "      <td>141</td>\n",
       "      <td>0</td>\n",
       "      <td>25</td>\n",
       "      <td>10</td>\n",
       "      <td>0</td>\n",
       "    </tr>\n",
       "    <tr>\n",
       "      <th>3</th>\n",
       "      <td>20</td>\n",
       "      <td>39</td>\n",
       "      <td>72</td>\n",
       "      <td>0</td>\n",
       "      <td>34</td>\n",
       "      <td>25</td>\n",
       "      <td>1</td>\n",
       "    </tr>\n",
       "    <tr>\n",
       "      <th>4</th>\n",
       "      <td>26</td>\n",
       "      <td>49</td>\n",
       "      <td>53</td>\n",
       "      <td>0</td>\n",
       "      <td>48</td>\n",
       "      <td>10</td>\n",
       "      <td>0</td>\n",
       "    </tr>\n",
       "  </tbody>\n",
       "</table>\n",
       "</div>"
      ],
      "text/plain": [
       "   Age  RestingBP  Cholesterol  FastingBS  MaxHR  Oldpeak  HeartDisease\n",
       "0   12         41          147          0     98       10             0\n",
       "1   21         55           40          0     82       20             1\n",
       "2    9         31          141          0     25       10             0\n",
       "3   20         39           72          0     34       25             1\n",
       "4   26         49           53          0     48       10             0"
      ]
     },
     "execution_count": 37,
     "metadata": {},
     "output_type": "execute_result"
    }
   ],
   "source": [
    "# select numerical features and encoding it\n",
    "from sklearn.preprocessing import LabelEncoder\n",
    "le = LabelEncoder()\n",
    "\n",
    "# select numerical features\n",
    "numerical_features = df.select_dtypes(include=['int64', 'float64'])\n",
    "\n",
    "# apply label encoding\n",
    "numerical_features = numerical_features.apply(LabelEncoder().fit_transform)\n",
    "numerical_features.head()"
   ]
  },
  {
   "cell_type": "code",
   "execution_count": 38,
   "id": "5650fb69",
   "metadata": {
    "papermill": {
     "duration": 0.100978,
     "end_time": "2022-05-07T19:20:07.473053",
     "exception": false,
     "start_time": "2022-05-07T19:20:07.372075",
     "status": "completed"
    },
    "tags": []
   },
   "outputs": [
    {
     "data": {
      "text/html": [
       "<div>\n",
       "<style scoped>\n",
       "    .dataframe tbody tr th:only-of-type {\n",
       "        vertical-align: middle;\n",
       "    }\n",
       "\n",
       "    .dataframe tbody tr th {\n",
       "        vertical-align: top;\n",
       "    }\n",
       "\n",
       "    .dataframe thead th {\n",
       "        text-align: right;\n",
       "    }\n",
       "</style>\n",
       "<table border=\"1\" class=\"dataframe\">\n",
       "  <thead>\n",
       "    <tr style=\"text-align: right;\">\n",
       "      <th></th>\n",
       "      <th>Sex_F</th>\n",
       "      <th>Sex_M</th>\n",
       "      <th>ChestPainType_ASY</th>\n",
       "      <th>ChestPainType_ATA</th>\n",
       "      <th>ChestPainType_NAP</th>\n",
       "      <th>ChestPainType_TA</th>\n",
       "      <th>RestingECG_LVH</th>\n",
       "      <th>RestingECG_Normal</th>\n",
       "      <th>RestingECG_ST</th>\n",
       "      <th>ExerciseAngina_N</th>\n",
       "      <th>ExerciseAngina_Y</th>\n",
       "      <th>ST_Slope_Down</th>\n",
       "      <th>ST_Slope_Flat</th>\n",
       "      <th>ST_Slope_Up</th>\n",
       "    </tr>\n",
       "  </thead>\n",
       "  <tbody>\n",
       "    <tr>\n",
       "      <th>0</th>\n",
       "      <td>0</td>\n",
       "      <td>1</td>\n",
       "      <td>0</td>\n",
       "      <td>1</td>\n",
       "      <td>0</td>\n",
       "      <td>0</td>\n",
       "      <td>0</td>\n",
       "      <td>1</td>\n",
       "      <td>0</td>\n",
       "      <td>1</td>\n",
       "      <td>0</td>\n",
       "      <td>0</td>\n",
       "      <td>0</td>\n",
       "      <td>1</td>\n",
       "    </tr>\n",
       "    <tr>\n",
       "      <th>1</th>\n",
       "      <td>1</td>\n",
       "      <td>0</td>\n",
       "      <td>0</td>\n",
       "      <td>0</td>\n",
       "      <td>1</td>\n",
       "      <td>0</td>\n",
       "      <td>0</td>\n",
       "      <td>1</td>\n",
       "      <td>0</td>\n",
       "      <td>1</td>\n",
       "      <td>0</td>\n",
       "      <td>0</td>\n",
       "      <td>1</td>\n",
       "      <td>0</td>\n",
       "    </tr>\n",
       "    <tr>\n",
       "      <th>2</th>\n",
       "      <td>0</td>\n",
       "      <td>1</td>\n",
       "      <td>0</td>\n",
       "      <td>1</td>\n",
       "      <td>0</td>\n",
       "      <td>0</td>\n",
       "      <td>0</td>\n",
       "      <td>0</td>\n",
       "      <td>1</td>\n",
       "      <td>1</td>\n",
       "      <td>0</td>\n",
       "      <td>0</td>\n",
       "      <td>0</td>\n",
       "      <td>1</td>\n",
       "    </tr>\n",
       "    <tr>\n",
       "      <th>3</th>\n",
       "      <td>1</td>\n",
       "      <td>0</td>\n",
       "      <td>1</td>\n",
       "      <td>0</td>\n",
       "      <td>0</td>\n",
       "      <td>0</td>\n",
       "      <td>0</td>\n",
       "      <td>1</td>\n",
       "      <td>0</td>\n",
       "      <td>0</td>\n",
       "      <td>1</td>\n",
       "      <td>0</td>\n",
       "      <td>1</td>\n",
       "      <td>0</td>\n",
       "    </tr>\n",
       "    <tr>\n",
       "      <th>4</th>\n",
       "      <td>0</td>\n",
       "      <td>1</td>\n",
       "      <td>0</td>\n",
       "      <td>0</td>\n",
       "      <td>1</td>\n",
       "      <td>0</td>\n",
       "      <td>0</td>\n",
       "      <td>1</td>\n",
       "      <td>0</td>\n",
       "      <td>1</td>\n",
       "      <td>0</td>\n",
       "      <td>0</td>\n",
       "      <td>0</td>\n",
       "      <td>1</td>\n",
       "    </tr>\n",
       "  </tbody>\n",
       "</table>\n",
       "</div>"
      ],
      "text/plain": [
       "   Sex_F  Sex_M  ChestPainType_ASY  ChestPainType_ATA  ChestPainType_NAP  \\\n",
       "0      0      1                  0                  1                  0   \n",
       "1      1      0                  0                  0                  1   \n",
       "2      0      1                  0                  1                  0   \n",
       "3      1      0                  1                  0                  0   \n",
       "4      0      1                  0                  0                  1   \n",
       "\n",
       "   ChestPainType_TA  RestingECG_LVH  RestingECG_Normal  RestingECG_ST  \\\n",
       "0                 0               0                  1              0   \n",
       "1                 0               0                  1              0   \n",
       "2                 0               0                  0              1   \n",
       "3                 0               0                  1              0   \n",
       "4                 0               0                  1              0   \n",
       "\n",
       "   ExerciseAngina_N  ExerciseAngina_Y  ST_Slope_Down  ST_Slope_Flat  \\\n",
       "0                 1                 0              0              0   \n",
       "1                 1                 0              0              1   \n",
       "2                 1                 0              0              0   \n",
       "3                 0                 1              0              1   \n",
       "4                 1                 0              0              0   \n",
       "\n",
       "   ST_Slope_Up  \n",
       "0            1  \n",
       "1            0  \n",
       "2            1  \n",
       "3            0  \n",
       "4            1  "
      ]
     },
     "execution_count": 38,
     "metadata": {},
     "output_type": "execute_result"
    }
   ],
   "source": [
    "# One-Hot encoding the categorical features using get_dummies()\n",
    "# select categorical features\n",
    "categorical_features = df.select_dtypes(include=['object'])\n",
    "# apply get_dummies encoding\n",
    "categorical_features = pd.get_dummies(categorical_features)\n",
    "categorical_features.head()"
   ]
  },
  {
   "cell_type": "code",
   "execution_count": 39,
   "id": "f59e722d",
   "metadata": {
    "papermill": {
     "duration": 0.096572,
     "end_time": "2022-05-07T19:20:07.642207",
     "exception": false,
     "start_time": "2022-05-07T19:20:07.545635",
     "status": "completed"
    },
    "tags": []
   },
   "outputs": [
    {
     "data": {
      "text/html": [
       "<div>\n",
       "<style scoped>\n",
       "    .dataframe tbody tr th:only-of-type {\n",
       "        vertical-align: middle;\n",
       "    }\n",
       "\n",
       "    .dataframe tbody tr th {\n",
       "        vertical-align: top;\n",
       "    }\n",
       "\n",
       "    .dataframe thead th {\n",
       "        text-align: right;\n",
       "    }\n",
       "</style>\n",
       "<table border=\"1\" class=\"dataframe\">\n",
       "  <thead>\n",
       "    <tr style=\"text-align: right;\">\n",
       "      <th></th>\n",
       "      <th>Age</th>\n",
       "      <th>RestingBP</th>\n",
       "      <th>Cholesterol</th>\n",
       "      <th>FastingBS</th>\n",
       "      <th>MaxHR</th>\n",
       "      <th>Oldpeak</th>\n",
       "      <th>HeartDisease</th>\n",
       "      <th>Sex_F</th>\n",
       "      <th>Sex_M</th>\n",
       "      <th>ChestPainType_ASY</th>\n",
       "      <th>...</th>\n",
       "      <th>ChestPainType_NAP</th>\n",
       "      <th>ChestPainType_TA</th>\n",
       "      <th>RestingECG_LVH</th>\n",
       "      <th>RestingECG_Normal</th>\n",
       "      <th>RestingECG_ST</th>\n",
       "      <th>ExerciseAngina_N</th>\n",
       "      <th>ExerciseAngina_Y</th>\n",
       "      <th>ST_Slope_Down</th>\n",
       "      <th>ST_Slope_Flat</th>\n",
       "      <th>ST_Slope_Up</th>\n",
       "    </tr>\n",
       "  </thead>\n",
       "  <tbody>\n",
       "    <tr>\n",
       "      <th>0</th>\n",
       "      <td>12</td>\n",
       "      <td>41</td>\n",
       "      <td>147</td>\n",
       "      <td>0</td>\n",
       "      <td>98</td>\n",
       "      <td>10</td>\n",
       "      <td>0</td>\n",
       "      <td>0</td>\n",
       "      <td>1</td>\n",
       "      <td>0</td>\n",
       "      <td>...</td>\n",
       "      <td>0</td>\n",
       "      <td>0</td>\n",
       "      <td>0</td>\n",
       "      <td>1</td>\n",
       "      <td>0</td>\n",
       "      <td>1</td>\n",
       "      <td>0</td>\n",
       "      <td>0</td>\n",
       "      <td>0</td>\n",
       "      <td>1</td>\n",
       "    </tr>\n",
       "    <tr>\n",
       "      <th>1</th>\n",
       "      <td>21</td>\n",
       "      <td>55</td>\n",
       "      <td>40</td>\n",
       "      <td>0</td>\n",
       "      <td>82</td>\n",
       "      <td>20</td>\n",
       "      <td>1</td>\n",
       "      <td>1</td>\n",
       "      <td>0</td>\n",
       "      <td>0</td>\n",
       "      <td>...</td>\n",
       "      <td>1</td>\n",
       "      <td>0</td>\n",
       "      <td>0</td>\n",
       "      <td>1</td>\n",
       "      <td>0</td>\n",
       "      <td>1</td>\n",
       "      <td>0</td>\n",
       "      <td>0</td>\n",
       "      <td>1</td>\n",
       "      <td>0</td>\n",
       "    </tr>\n",
       "    <tr>\n",
       "      <th>2</th>\n",
       "      <td>9</td>\n",
       "      <td>31</td>\n",
       "      <td>141</td>\n",
       "      <td>0</td>\n",
       "      <td>25</td>\n",
       "      <td>10</td>\n",
       "      <td>0</td>\n",
       "      <td>0</td>\n",
       "      <td>1</td>\n",
       "      <td>0</td>\n",
       "      <td>...</td>\n",
       "      <td>0</td>\n",
       "      <td>0</td>\n",
       "      <td>0</td>\n",
       "      <td>0</td>\n",
       "      <td>1</td>\n",
       "      <td>1</td>\n",
       "      <td>0</td>\n",
       "      <td>0</td>\n",
       "      <td>0</td>\n",
       "      <td>1</td>\n",
       "    </tr>\n",
       "    <tr>\n",
       "      <th>3</th>\n",
       "      <td>20</td>\n",
       "      <td>39</td>\n",
       "      <td>72</td>\n",
       "      <td>0</td>\n",
       "      <td>34</td>\n",
       "      <td>25</td>\n",
       "      <td>1</td>\n",
       "      <td>1</td>\n",
       "      <td>0</td>\n",
       "      <td>1</td>\n",
       "      <td>...</td>\n",
       "      <td>0</td>\n",
       "      <td>0</td>\n",
       "      <td>0</td>\n",
       "      <td>1</td>\n",
       "      <td>0</td>\n",
       "      <td>0</td>\n",
       "      <td>1</td>\n",
       "      <td>0</td>\n",
       "      <td>1</td>\n",
       "      <td>0</td>\n",
       "    </tr>\n",
       "    <tr>\n",
       "      <th>4</th>\n",
       "      <td>26</td>\n",
       "      <td>49</td>\n",
       "      <td>53</td>\n",
       "      <td>0</td>\n",
       "      <td>48</td>\n",
       "      <td>10</td>\n",
       "      <td>0</td>\n",
       "      <td>0</td>\n",
       "      <td>1</td>\n",
       "      <td>0</td>\n",
       "      <td>...</td>\n",
       "      <td>1</td>\n",
       "      <td>0</td>\n",
       "      <td>0</td>\n",
       "      <td>1</td>\n",
       "      <td>0</td>\n",
       "      <td>1</td>\n",
       "      <td>0</td>\n",
       "      <td>0</td>\n",
       "      <td>0</td>\n",
       "      <td>1</td>\n",
       "    </tr>\n",
       "  </tbody>\n",
       "</table>\n",
       "<p>5 rows × 21 columns</p>\n",
       "</div>"
      ],
      "text/plain": [
       "   Age  RestingBP  Cholesterol  FastingBS  MaxHR  Oldpeak  HeartDisease  \\\n",
       "0   12         41          147          0     98       10             0   \n",
       "1   21         55           40          0     82       20             1   \n",
       "2    9         31          141          0     25       10             0   \n",
       "3   20         39           72          0     34       25             1   \n",
       "4   26         49           53          0     48       10             0   \n",
       "\n",
       "   Sex_F  Sex_M  ChestPainType_ASY  ...  ChestPainType_NAP  ChestPainType_TA  \\\n",
       "0      0      1                  0  ...                  0                 0   \n",
       "1      1      0                  0  ...                  1                 0   \n",
       "2      0      1                  0  ...                  0                 0   \n",
       "3      1      0                  1  ...                  0                 0   \n",
       "4      0      1                  0  ...                  1                 0   \n",
       "\n",
       "   RestingECG_LVH  RestingECG_Normal  RestingECG_ST  ExerciseAngina_N  \\\n",
       "0               0                  1              0                 1   \n",
       "1               0                  1              0                 1   \n",
       "2               0                  0              1                 1   \n",
       "3               0                  1              0                 0   \n",
       "4               0                  1              0                 1   \n",
       "\n",
       "   ExerciseAngina_Y  ST_Slope_Down  ST_Slope_Flat  ST_Slope_Up  \n",
       "0                 0              0              0            1  \n",
       "1                 0              0              1            0  \n",
       "2                 0              0              0            1  \n",
       "3                 1              0              1            0  \n",
       "4                 0              0              0            1  \n",
       "\n",
       "[5 rows x 21 columns]"
      ]
     },
     "execution_count": 39,
     "metadata": {},
     "output_type": "execute_result"
    }
   ],
   "source": [
    "# combine numerical and categorical features\n",
    "combined = pd.concat([numerical_features, categorical_features], axis=1)\n",
    "combined.head()"
   ]
  },
  {
   "cell_type": "code",
   "execution_count": 40,
   "id": "e43d6976",
   "metadata": {
    "papermill": {
     "duration": 0.08547,
     "end_time": "2022-05-07T19:20:07.802972",
     "exception": false,
     "start_time": "2022-05-07T19:20:07.717502",
     "status": "completed"
    },
    "tags": []
   },
   "outputs": [],
   "source": [
    "# separet features and target\n",
    "X = combined.drop(['HeartDisease'], axis=1)\n",
    "y = combined['HeartDisease']"
   ]
  },
  {
   "cell_type": "code",
   "execution_count": 41,
   "id": "94b1feb2",
   "metadata": {
    "papermill": {
     "duration": 0.093486,
     "end_time": "2022-05-07T19:20:07.970809",
     "exception": false,
     "start_time": "2022-05-07T19:20:07.877323",
     "status": "completed"
    },
    "tags": []
   },
   "outputs": [
    {
     "data": {
      "text/html": [
       "<div>\n",
       "<style scoped>\n",
       "    .dataframe tbody tr th:only-of-type {\n",
       "        vertical-align: middle;\n",
       "    }\n",
       "\n",
       "    .dataframe tbody tr th {\n",
       "        vertical-align: top;\n",
       "    }\n",
       "\n",
       "    .dataframe thead th {\n",
       "        text-align: right;\n",
       "    }\n",
       "</style>\n",
       "<table border=\"1\" class=\"dataframe\">\n",
       "  <thead>\n",
       "    <tr style=\"text-align: right;\">\n",
       "      <th></th>\n",
       "      <th>Age</th>\n",
       "      <th>RestingBP</th>\n",
       "      <th>Cholesterol</th>\n",
       "      <th>FastingBS</th>\n",
       "      <th>MaxHR</th>\n",
       "      <th>Oldpeak</th>\n",
       "      <th>Sex_F</th>\n",
       "      <th>Sex_M</th>\n",
       "      <th>ChestPainType_ASY</th>\n",
       "      <th>ChestPainType_ATA</th>\n",
       "      <th>ChestPainType_NAP</th>\n",
       "      <th>ChestPainType_TA</th>\n",
       "      <th>RestingECG_LVH</th>\n",
       "      <th>RestingECG_Normal</th>\n",
       "      <th>RestingECG_ST</th>\n",
       "      <th>ExerciseAngina_N</th>\n",
       "      <th>ExerciseAngina_Y</th>\n",
       "      <th>ST_Slope_Down</th>\n",
       "      <th>ST_Slope_Flat</th>\n",
       "      <th>ST_Slope_Up</th>\n",
       "    </tr>\n",
       "  </thead>\n",
       "  <tbody>\n",
       "    <tr>\n",
       "      <th>0</th>\n",
       "      <td>12</td>\n",
       "      <td>41</td>\n",
       "      <td>147</td>\n",
       "      <td>0</td>\n",
       "      <td>98</td>\n",
       "      <td>10</td>\n",
       "      <td>0</td>\n",
       "      <td>1</td>\n",
       "      <td>0</td>\n",
       "      <td>1</td>\n",
       "      <td>0</td>\n",
       "      <td>0</td>\n",
       "      <td>0</td>\n",
       "      <td>1</td>\n",
       "      <td>0</td>\n",
       "      <td>1</td>\n",
       "      <td>0</td>\n",
       "      <td>0</td>\n",
       "      <td>0</td>\n",
       "      <td>1</td>\n",
       "    </tr>\n",
       "    <tr>\n",
       "      <th>1</th>\n",
       "      <td>21</td>\n",
       "      <td>55</td>\n",
       "      <td>40</td>\n",
       "      <td>0</td>\n",
       "      <td>82</td>\n",
       "      <td>20</td>\n",
       "      <td>1</td>\n",
       "      <td>0</td>\n",
       "      <td>0</td>\n",
       "      <td>0</td>\n",
       "      <td>1</td>\n",
       "      <td>0</td>\n",
       "      <td>0</td>\n",
       "      <td>1</td>\n",
       "      <td>0</td>\n",
       "      <td>1</td>\n",
       "      <td>0</td>\n",
       "      <td>0</td>\n",
       "      <td>1</td>\n",
       "      <td>0</td>\n",
       "    </tr>\n",
       "    <tr>\n",
       "      <th>2</th>\n",
       "      <td>9</td>\n",
       "      <td>31</td>\n",
       "      <td>141</td>\n",
       "      <td>0</td>\n",
       "      <td>25</td>\n",
       "      <td>10</td>\n",
       "      <td>0</td>\n",
       "      <td>1</td>\n",
       "      <td>0</td>\n",
       "      <td>1</td>\n",
       "      <td>0</td>\n",
       "      <td>0</td>\n",
       "      <td>0</td>\n",
       "      <td>0</td>\n",
       "      <td>1</td>\n",
       "      <td>1</td>\n",
       "      <td>0</td>\n",
       "      <td>0</td>\n",
       "      <td>0</td>\n",
       "      <td>1</td>\n",
       "    </tr>\n",
       "    <tr>\n",
       "      <th>3</th>\n",
       "      <td>20</td>\n",
       "      <td>39</td>\n",
       "      <td>72</td>\n",
       "      <td>0</td>\n",
       "      <td>34</td>\n",
       "      <td>25</td>\n",
       "      <td>1</td>\n",
       "      <td>0</td>\n",
       "      <td>1</td>\n",
       "      <td>0</td>\n",
       "      <td>0</td>\n",
       "      <td>0</td>\n",
       "      <td>0</td>\n",
       "      <td>1</td>\n",
       "      <td>0</td>\n",
       "      <td>0</td>\n",
       "      <td>1</td>\n",
       "      <td>0</td>\n",
       "      <td>1</td>\n",
       "      <td>0</td>\n",
       "    </tr>\n",
       "    <tr>\n",
       "      <th>4</th>\n",
       "      <td>26</td>\n",
       "      <td>49</td>\n",
       "      <td>53</td>\n",
       "      <td>0</td>\n",
       "      <td>48</td>\n",
       "      <td>10</td>\n",
       "      <td>0</td>\n",
       "      <td>1</td>\n",
       "      <td>0</td>\n",
       "      <td>0</td>\n",
       "      <td>1</td>\n",
       "      <td>0</td>\n",
       "      <td>0</td>\n",
       "      <td>1</td>\n",
       "      <td>0</td>\n",
       "      <td>1</td>\n",
       "      <td>0</td>\n",
       "      <td>0</td>\n",
       "      <td>0</td>\n",
       "      <td>1</td>\n",
       "    </tr>\n",
       "  </tbody>\n",
       "</table>\n",
       "</div>"
      ],
      "text/plain": [
       "   Age  RestingBP  Cholesterol  FastingBS  MaxHR  Oldpeak  Sex_F  Sex_M  \\\n",
       "0   12         41          147          0     98       10      0      1   \n",
       "1   21         55           40          0     82       20      1      0   \n",
       "2    9         31          141          0     25       10      0      1   \n",
       "3   20         39           72          0     34       25      1      0   \n",
       "4   26         49           53          0     48       10      0      1   \n",
       "\n",
       "   ChestPainType_ASY  ChestPainType_ATA  ChestPainType_NAP  ChestPainType_TA  \\\n",
       "0                  0                  1                  0                 0   \n",
       "1                  0                  0                  1                 0   \n",
       "2                  0                  1                  0                 0   \n",
       "3                  1                  0                  0                 0   \n",
       "4                  0                  0                  1                 0   \n",
       "\n",
       "   RestingECG_LVH  RestingECG_Normal  RestingECG_ST  ExerciseAngina_N  \\\n",
       "0               0                  1              0                 1   \n",
       "1               0                  1              0                 1   \n",
       "2               0                  0              1                 1   \n",
       "3               0                  1              0                 0   \n",
       "4               0                  1              0                 1   \n",
       "\n",
       "   ExerciseAngina_Y  ST_Slope_Down  ST_Slope_Flat  ST_Slope_Up  \n",
       "0                 0              0              0            1  \n",
       "1                 0              0              1            0  \n",
       "2                 0              0              0            1  \n",
       "3                 1              0              1            0  \n",
       "4                 0              0              0            1  "
      ]
     },
     "execution_count": 41,
     "metadata": {},
     "output_type": "execute_result"
    }
   ],
   "source": [
    "X.head()"
   ]
  },
  {
   "cell_type": "code",
   "execution_count": 42,
   "id": "63f155c1",
   "metadata": {
    "papermill": {
     "duration": 0.085429,
     "end_time": "2022-05-07T19:20:08.130869",
     "exception": false,
     "start_time": "2022-05-07T19:20:08.045440",
     "status": "completed"
    },
    "tags": []
   },
   "outputs": [
    {
     "data": {
      "text/plain": [
       "0    0\n",
       "1    1\n",
       "2    0\n",
       "3    1\n",
       "4    0\n",
       "Name: HeartDisease, dtype: int64"
      ]
     },
     "execution_count": 42,
     "metadata": {},
     "output_type": "execute_result"
    }
   ],
   "source": [
    "y.head()"
   ]
  },
  {
   "cell_type": "code",
   "execution_count": 245,
   "id": "fa1a8c61",
   "metadata": {
    "papermill": {
     "duration": 0.088917,
     "end_time": "2022-05-07T19:21:36.910762",
     "exception": false,
     "start_time": "2022-05-07T19:21:36.821845",
     "status": "completed"
    },
    "tags": []
   },
   "outputs": [],
   "source": [
    "# print precetion, recall, f1 score\n",
    "# from sklearn.metrics import classification_report\n",
    "# print(classification_report(y_test, y_pred))"
   ]
  },
  {
   "cell_type": "code",
   "execution_count": 65,
   "id": "d2dd9d53",
   "metadata": {
    "papermill": {
     "duration": 0.299613,
     "end_time": "2022-05-07T19:21:37.286777",
     "exception": false,
     "start_time": "2022-05-07T19:21:36.987164",
     "status": "completed"
    },
    "tags": []
   },
   "outputs": [],
   "source": [
    "# # confusion matrix\n",
    "# from sklearn.metrics import confusion_matrix\n",
    "# cm = confusion_matrix(y_test, y_pred)\n",
    "# plt.figure(figsize=(5,3))\n",
    "# sns.heatmap(cm, annot=True)"
   ]
  },
  {
   "cell_type": "code",
   "execution_count": 66,
   "id": "96e7712f",
   "metadata": {
    "papermill": {
     "duration": 0.331384,
     "end_time": "2022-05-07T19:21:37.694307",
     "exception": false,
     "start_time": "2022-05-07T19:21:37.362923",
     "status": "completed"
    },
    "tags": []
   },
   "outputs": [],
   "source": [
    "# # Feature importance for xgboost\n",
    "# feat_importances = pd.Series(model.feature_importances_, index=X.columns)\n",
    "# feat_importances.nlargest(10).plot(kind='barh')\n",
    "# plt.xlabel('Relative Importance')\n",
    "# plt.ylabel('Features')\n",
    "# plt.title('Feature Importances')\n",
    "# plt.show()"
   ]
  },
  {
   "cell_type": "code",
   "execution_count": 249,
   "id": "79761002-dba4-46fc-a452-1dc8d478a93f",
   "metadata": {
    "scrolled": true
   },
   "outputs": [
    {
     "data": {
      "text/html": [
       "<div>\n",
       "<style scoped>\n",
       "    .dataframe tbody tr th:only-of-type {\n",
       "        vertical-align: middle;\n",
       "    }\n",
       "\n",
       "    .dataframe tbody tr th {\n",
       "        vertical-align: top;\n",
       "    }\n",
       "\n",
       "    .dataframe thead th {\n",
       "        text-align: right;\n",
       "    }\n",
       "</style>\n",
       "<table border=\"1\" class=\"dataframe\">\n",
       "  <thead>\n",
       "    <tr style=\"text-align: right;\">\n",
       "      <th></th>\n",
       "      <th>Age</th>\n",
       "      <th>Sex</th>\n",
       "      <th>ChestPainType</th>\n",
       "      <th>RestingBP</th>\n",
       "      <th>Cholesterol</th>\n",
       "      <th>FastingBS</th>\n",
       "      <th>RestingECG</th>\n",
       "      <th>MaxHR</th>\n",
       "      <th>ExerciseAngina</th>\n",
       "      <th>Oldpeak</th>\n",
       "      <th>ST_Slope</th>\n",
       "      <th>HeartDisease</th>\n",
       "    </tr>\n",
       "  </thead>\n",
       "  <tbody>\n",
       "    <tr>\n",
       "      <th>0</th>\n",
       "      <td>40</td>\n",
       "      <td>M</td>\n",
       "      <td>ATA</td>\n",
       "      <td>140</td>\n",
       "      <td>289</td>\n",
       "      <td>0</td>\n",
       "      <td>Normal</td>\n",
       "      <td>172</td>\n",
       "      <td>N</td>\n",
       "      <td>0.0</td>\n",
       "      <td>Up</td>\n",
       "      <td>0</td>\n",
       "    </tr>\n",
       "    <tr>\n",
       "      <th>1</th>\n",
       "      <td>49</td>\n",
       "      <td>F</td>\n",
       "      <td>NAP</td>\n",
       "      <td>160</td>\n",
       "      <td>180</td>\n",
       "      <td>0</td>\n",
       "      <td>Normal</td>\n",
       "      <td>156</td>\n",
       "      <td>N</td>\n",
       "      <td>1.0</td>\n",
       "      <td>Flat</td>\n",
       "      <td>1</td>\n",
       "    </tr>\n",
       "    <tr>\n",
       "      <th>2</th>\n",
       "      <td>37</td>\n",
       "      <td>M</td>\n",
       "      <td>ATA</td>\n",
       "      <td>130</td>\n",
       "      <td>283</td>\n",
       "      <td>0</td>\n",
       "      <td>ST</td>\n",
       "      <td>98</td>\n",
       "      <td>N</td>\n",
       "      <td>0.0</td>\n",
       "      <td>Up</td>\n",
       "      <td>0</td>\n",
       "    </tr>\n",
       "    <tr>\n",
       "      <th>3</th>\n",
       "      <td>48</td>\n",
       "      <td>F</td>\n",
       "      <td>ASY</td>\n",
       "      <td>138</td>\n",
       "      <td>214</td>\n",
       "      <td>0</td>\n",
       "      <td>Normal</td>\n",
       "      <td>108</td>\n",
       "      <td>Y</td>\n",
       "      <td>1.5</td>\n",
       "      <td>Flat</td>\n",
       "      <td>1</td>\n",
       "    </tr>\n",
       "    <tr>\n",
       "      <th>4</th>\n",
       "      <td>54</td>\n",
       "      <td>M</td>\n",
       "      <td>NAP</td>\n",
       "      <td>150</td>\n",
       "      <td>195</td>\n",
       "      <td>0</td>\n",
       "      <td>Normal</td>\n",
       "      <td>122</td>\n",
       "      <td>N</td>\n",
       "      <td>0.0</td>\n",
       "      <td>Up</td>\n",
       "      <td>0</td>\n",
       "    </tr>\n",
       "    <tr>\n",
       "      <th>...</th>\n",
       "      <td>...</td>\n",
       "      <td>...</td>\n",
       "      <td>...</td>\n",
       "      <td>...</td>\n",
       "      <td>...</td>\n",
       "      <td>...</td>\n",
       "      <td>...</td>\n",
       "      <td>...</td>\n",
       "      <td>...</td>\n",
       "      <td>...</td>\n",
       "      <td>...</td>\n",
       "      <td>...</td>\n",
       "    </tr>\n",
       "    <tr>\n",
       "      <th>913</th>\n",
       "      <td>45</td>\n",
       "      <td>M</td>\n",
       "      <td>TA</td>\n",
       "      <td>110</td>\n",
       "      <td>264</td>\n",
       "      <td>0</td>\n",
       "      <td>Normal</td>\n",
       "      <td>132</td>\n",
       "      <td>N</td>\n",
       "      <td>1.2</td>\n",
       "      <td>Flat</td>\n",
       "      <td>1</td>\n",
       "    </tr>\n",
       "    <tr>\n",
       "      <th>914</th>\n",
       "      <td>68</td>\n",
       "      <td>M</td>\n",
       "      <td>ASY</td>\n",
       "      <td>144</td>\n",
       "      <td>193</td>\n",
       "      <td>1</td>\n",
       "      <td>Normal</td>\n",
       "      <td>141</td>\n",
       "      <td>N</td>\n",
       "      <td>3.4</td>\n",
       "      <td>Flat</td>\n",
       "      <td>1</td>\n",
       "    </tr>\n",
       "    <tr>\n",
       "      <th>915</th>\n",
       "      <td>57</td>\n",
       "      <td>M</td>\n",
       "      <td>ASY</td>\n",
       "      <td>130</td>\n",
       "      <td>131</td>\n",
       "      <td>0</td>\n",
       "      <td>Normal</td>\n",
       "      <td>115</td>\n",
       "      <td>Y</td>\n",
       "      <td>1.2</td>\n",
       "      <td>Flat</td>\n",
       "      <td>1</td>\n",
       "    </tr>\n",
       "    <tr>\n",
       "      <th>916</th>\n",
       "      <td>57</td>\n",
       "      <td>F</td>\n",
       "      <td>ATA</td>\n",
       "      <td>130</td>\n",
       "      <td>236</td>\n",
       "      <td>0</td>\n",
       "      <td>LVH</td>\n",
       "      <td>174</td>\n",
       "      <td>N</td>\n",
       "      <td>0.0</td>\n",
       "      <td>Flat</td>\n",
       "      <td>1</td>\n",
       "    </tr>\n",
       "    <tr>\n",
       "      <th>917</th>\n",
       "      <td>38</td>\n",
       "      <td>M</td>\n",
       "      <td>NAP</td>\n",
       "      <td>138</td>\n",
       "      <td>175</td>\n",
       "      <td>0</td>\n",
       "      <td>Normal</td>\n",
       "      <td>173</td>\n",
       "      <td>N</td>\n",
       "      <td>0.0</td>\n",
       "      <td>Up</td>\n",
       "      <td>0</td>\n",
       "    </tr>\n",
       "  </tbody>\n",
       "</table>\n",
       "<p>918 rows × 12 columns</p>\n",
       "</div>"
      ],
      "text/plain": [
       "     Age Sex ChestPainType  RestingBP  Cholesterol  FastingBS RestingECG  \\\n",
       "0     40   M           ATA        140          289          0     Normal   \n",
       "1     49   F           NAP        160          180          0     Normal   \n",
       "2     37   M           ATA        130          283          0         ST   \n",
       "3     48   F           ASY        138          214          0     Normal   \n",
       "4     54   M           NAP        150          195          0     Normal   \n",
       "..   ...  ..           ...        ...          ...        ...        ...   \n",
       "913   45   M            TA        110          264          0     Normal   \n",
       "914   68   M           ASY        144          193          1     Normal   \n",
       "915   57   M           ASY        130          131          0     Normal   \n",
       "916   57   F           ATA        130          236          0        LVH   \n",
       "917   38   M           NAP        138          175          0     Normal   \n",
       "\n",
       "     MaxHR ExerciseAngina  Oldpeak ST_Slope  HeartDisease  \n",
       "0      172              N      0.0       Up             0  \n",
       "1      156              N      1.0     Flat             1  \n",
       "2       98              N      0.0       Up             0  \n",
       "3      108              Y      1.5     Flat             1  \n",
       "4      122              N      0.0       Up             0  \n",
       "..     ...            ...      ...      ...           ...  \n",
       "913    132              N      1.2     Flat             1  \n",
       "914    141              N      3.4     Flat             1  \n",
       "915    115              Y      1.2     Flat             1  \n",
       "916    174              N      0.0     Flat             1  \n",
       "917    173              N      0.0       Up             0  \n",
       "\n",
       "[918 rows x 12 columns]"
      ]
     },
     "execution_count": 249,
     "metadata": {},
     "output_type": "execute_result"
    }
   ],
   "source": [
    "df"
   ]
  },
  {
   "cell_type": "code",
   "execution_count": 248,
   "id": "4a70ca46",
   "metadata": {},
   "outputs": [],
   "source": [
    "data = df"
   ]
  },
  {
   "cell_type": "code",
   "execution_count": 79,
   "id": "4bc5358a",
   "metadata": {},
   "outputs": [
    {
     "data": {
      "image/png": "[encoded data removed]",
      "text/plain": [
       "<Figure size 432x288 with 1 Axes>"
      ]
     },
     "metadata": {
      "needs_background": "light"
     },
     "output_type": "display_data"
    },
    {
     "name": "stdout",
     "output_type": "stream",
     "text": [
      "Most frequent malignant radius mean is:  55.53333333333333\n"
     ]
    }
   ],
   "source": [
    "m = plt.hist(data[data[\"HeartDisease\"] == 1].Age, bins=30,fc = (1,0,0,0.5),label = \"Malignant\")\n",
    "b = plt.hist(data[data[\"HeartDisease\"] == 0].Age, bins=30,fc = (0,1,0,0.5),label = \"Bening\")\n",
    "plt.legend()\n",
    "plt.xlabel(\"Age\")\n",
    "plt.ylabel(\"Frequency\")\n",
    "plt.title(\"Histogram of Age for Bening and Malignant Tumors\")\n",
    "plt.show()\n",
    "frequent_malignant_radius_mean = m[0].max()\n",
    "index_frequent_malignant_radius_mean = list(m[0]).index(frequent_malignant_radius_mean)\n",
    "most_frequent_malignant_radius_mean = m[1][index_frequent_malignant_radius_mean]\n",
    "print(\"Most frequent malignant radius mean is: \",most_frequent_malignant_radius_mean)"
   ]
  },
  {
   "cell_type": "code",
   "execution_count": 251,
   "id": "ae8cfabb",
   "metadata": {},
   "outputs": [],
   "source": [
    "# print(\"mean: \",data_bening.MaxHR.mean())\n",
    "# print(\"variance: \",data_bening.MaxHR.var())\n",
    "# print(\"standart deviation (std): \",data_bening.MaxHR.std())\n",
    "# print(\"describe method: \",data_bening.MaxHR.describe())"
   ]
  },
  {
   "cell_type": "code",
   "execution_count": 102,
   "id": "f7300fce",
   "metadata": {},
   "outputs": [],
   "source": [
    "# plt.hist(data_bening.MaxHR, bins=50,fc=(0,1,0,0.5),label='Bening',normed = True, cumulative = True)\n",
    "# sorted_data = np.sort(data_bening.MaxHR)\n",
    "# y = np.arange(len(sorted_data))/float(len(sorted_data)-1)\n",
    "# plt.plot(sorted_data,y,color='red')\n",
    "# plt.title('CDF of bening tumor radius mean')\n",
    "# plt.show()"
   ]
  },
  {
   "cell_type": "code",
   "execution_count": 224,
   "id": "e2e9db35",
   "metadata": {},
   "outputs": [],
   "source": [
    "# # Also we can look relationship between more than 2 distribution\n",
    "# sns.set(style = \"white\")\n",
    "# df = data.loc[:,[\"MaxHR\",\"Age\",\"Cholesterol\", \"RestingBP\"]]\n",
    "# g = sns.PairGrid(df,diag_sharey = False,)\n",
    "# g.map_lower(sns.kdeplot,cmap=\"Blues_d\")\n",
    "# g.map_upper(plt.scatter)\n",
    "# g.map_diag(sns.kdeplot,lw =3)\n",
    "# plt.show()\n"
   ]
  },
  {
   "cell_type": "code",
   "execution_count": 225,
   "id": "b524de68",
   "metadata": {},
   "outputs": [],
   "source": [
    "# f,ax=plt.subplots(figsize = (18,18))\n",
    "# sns.heatmap(data.corr(),annot= True,linewidths=0.5,fmt = \".1f\",ax=ax)\n",
    "# plt.xticks(rotation=90)\n",
    "# plt.yticks(rotation=0)\n",
    "# plt.title('Correlation Map')\n",
    "# plt.savefig('graph.png')\n",
    "# plt.show()"
   ]
  },
  {
   "cell_type": "code",
   "execution_count": 226,
   "id": "7656b50f",
   "metadata": {},
   "outputs": [],
   "source": [
    "# np.cov(data.Age,data.MaxHR)\n",
    "# print(\"Covariance between radius mean and area mean: \",data.Age.cov(data.MaxHR))\n",
    "# # print(\"Covariance between radius mean and fractal dimension se: \",data.Age.cov(data.fractal_dimension_se))\n"
   ]
  },
  {
   "cell_type": "markdown",
   "id": "faf32ff4",
   "metadata": {},
   "source": [
    "# Train test split"
   ]
  },
  {
   "cell_type": "code",
   "execution_count": 43,
   "id": "de3f86f2",
   "metadata": {
    "papermill": {
     "duration": 0.149653,
     "end_time": "2022-05-07T19:20:08.356203",
     "exception": false,
     "start_time": "2022-05-07T19:20:08.206550",
     "status": "completed"
    },
    "tags": []
   },
   "outputs": [],
   "source": [
    "from sklearn.model_selection import train_test_split\n",
    "X_train, X_test, y_train, y_test = train_test_split(X, y, test_size=0.2, random_state=42)"
   ]
  },
  {
   "cell_type": "markdown",
   "id": "b2ddac79",
   "metadata": {},
   "source": [
    "# Models Fitting and Evaluation"
   ]
  },
  {
   "cell_type": "code",
   "execution_count": 242,
   "id": "e40da8d3",
   "metadata": {},
   "outputs": [],
   "source": [
    "from sklearn.neighbors import KNeighborsClassifier\n",
    "from sklearn.discriminant_analysis import LinearDiscriminantAnalysis\n",
    "from sklearn.discriminant_analysis import QuadraticDiscriminantAnalysis\n",
    "\n",
    "models = [\n",
    "    LogisticRegression(solver='lbfgs', max_iter=1000),\n",
    "    KNeighborsClassifier(n_neighbors=10),\n",
    "    LinearDiscriminantAnalysis(),\n",
    "    QuadraticDiscriminantAnalysis(tol=1.0e-18),\n",
    "    MLPClassifier(hidden_layer_sizes=(24, 12, 24), random_state=1, max_iter=1000),\n",
    "    CustomLogisticRegression(normalize=True)\n",
    "]\n",
    "models_predictions = []"
   ]
  },
  {
   "cell_type": "code",
   "execution_count": 243,
   "id": "9d943917",
   "metadata": {},
   "outputs": [],
   "source": [
    "for model in models:\n",
    "    model.fit(X_train, y_train)\n",
    "    y_pred = model.predict(X_test)\n",
    "    models_predictions.append(y_pred)"
   ]
  },
  {
   "cell_type": "code",
   "execution_count": 244,
   "id": "42108710",
   "metadata": {},
   "outputs": [
    {
     "name": "stdout",
     "output_type": "stream",
     "text": [
      "Model: LogisticRegression(max_iter=1000)\n",
      "accuracy: 84.78260869565217, rmse: 0.15217391304347827; mse: 0.39009474880274697; mae: 0.15217391304347827; r2: 0.37468139337298223\n",
      "\n",
      "Model: KNeighborsClassifier(n_neighbors=10)\n",
      "accuracy: 72.28260869565217, rmse: 0.27717391304347827; mse: 0.5264730886222754; mae: 0.27717391304347827; r2: -0.13897317635635376\n",
      "\n",
      "Model: LinearDiscriminantAnalysis()\n",
      "accuracy: 84.78260869565217, rmse: 0.15217391304347827; mse: 0.39009474880274697; mae: 0.15217391304347827; r2: 0.37468139337298223\n",
      "\n",
      "Model: QuadraticDiscriminantAnalysis(tol=1e-18)\n",
      "accuracy: 74.45652173913044, rmse: 0.2554347826086957; mse: 0.5054055625027248; mae: 0.2554347826086957; r2: -0.04964194683820833\n",
      "\n",
      "Model: MLPClassifier(hidden_layer_sizes=(24, 12, 24), max_iter=1000, random_state=1)\n",
      "accuracy: 83.69565217391305, rmse: 0.16304347826086957; mse: 0.4037864265436241; mae: 0.16304347826086957; r2: 0.3300157786139095\n",
      "\n",
      "Model: Logistic Regression, alpha: 0.001, iters: 1000\n",
      "accuracy: 82.6086956521739, rmse: 0.17391304347826086; mse: 0.41702882811414954; mae: 0.17391304347826086; r2: 0.2853501638548368\n",
      "\n"
     ]
    }
   ],
   "source": [
    "from sklearn.metrics import mean_squared_error, mean_absolute_error, r2_score\n",
    "\n",
    "def models_evaluation(models, models_predictions, y_test):\n",
    "    for model, model_predictions in zip(models, models_predictions):\n",
    "        rmse = mean_squared_error(y_test, model_predictions, squared=True)\n",
    "        mse = mean_squared_error(y_test, model_predictions, squared=False)\n",
    "        mae = mean_absolute_error(y_test, model_predictions)\n",
    "        r2 = r2_score(y_test, model_predictions)\n",
    "        accuracy = sum(np.array(y_test) == model_predictions)/len(y_test) * 100\n",
    "        \n",
    "        print(f\"Model: {model}\")\n",
    "        print(f\"accuracy: {accuracy}, rmse: {rmse}; mse: {mse}; mae: {mae}; r2: {r2}\\n\")\n",
    "\n",
    "models_evaluation(models, models_predictions, y_test)"
   ]
  },
  {
   "cell_type": "markdown",
   "id": "4ab41ecc",
   "metadata": {},
   "source": [
    "# Dataset evaluation"
   ]
  },
  {
   "cell_type": "markdown",
   "id": "9b3079d1",
   "metadata": {},
   "source": [
    "## Models Cross-Validation"
   ]
  },
  {
   "cell_type": "code",
   "execution_count": 190,
   "id": "ef3b5ae0",
   "metadata": {},
   "outputs": [],
   "source": [
    "from sklearn.model_selection import cross_val_score\n",
    "from sklearn.model_selection import LeaveOneOut\n",
    "from sklearn.model_selection import KFold"
   ]
  },
  {
   "cell_type": "markdown",
   "id": "ff9049cd",
   "metadata": {},
   "source": [
    "### LeaveOneOut"
   ]
  },
  {
   "cell_type": "code",
   "execution_count": 220,
   "id": "c22248f9",
   "metadata": {},
   "outputs": [
    {
     "name": "stdout",
     "output_type": "stream",
     "text": [
      "Model: LogisticRegression(max_iter=1000) Accuracy: 0.858 (0.349)\n",
      "Model: KNeighborsClassifier(n_neighbors=10) Accuracy: 0.766 (0.424)\n",
      "Model: LinearDiscriminantAnalysis() Accuracy: 0.862 (0.344)\n",
      "Model: QuadraticDiscriminantAnalysis(tol=1e-18) Accuracy: 0.583 (0.493)\n",
      "Model: MLPClassifier(hidden_layer_sizes=(24, 12, 24), max_iter=1000, random_state=1) Accuracy: 0.846 (0.361)\n",
      "Model: Logistic Regression, alpha: 0.01, iters: 1000 Accuracy: 0.857 (0.350)\n"
     ]
    }
   ],
   "source": [
    "def leave_one_out_cv(models=[]):\n",
    "    cv = LeaveOneOut()\n",
    "    for model in models:\n",
    "        scores = cross_val_score(model, X_np, y_np, scoring='accuracy', cv=cv, n_jobs=-1)\n",
    "        print('Model: %s Accuracy: %.3f (%.3f)' % (model, mean(scores), std(scores)))\n",
    "\n",
    "leave_one_out_cv(models)"
   ]
  },
  {
   "cell_type": "code",
   "execution_count": 222,
   "id": "2a01d9e7",
   "metadata": {},
   "outputs": [
    {
     "name": "stdout",
     "output_type": "stream",
     "text": [
      "Model: LogisticRegression(max_iter=1000) Accuracy: 0.858 (0.036)\n",
      "Model: KNeighborsClassifier(n_neighbors=10) Accuracy: 0.764 (0.043)\n",
      "Model: LinearDiscriminantAnalysis() Accuracy: 0.858 (0.027)\n",
      "Model: QuadraticDiscriminantAnalysis(tol=1e-18) Accuracy: 0.688 (0.076)\n",
      "Model: MLPClassifier(hidden_layer_sizes=(24, 12, 24), max_iter=1000, random_state=1) Accuracy: 0.838 (0.044)\n",
      "Model: Logistic Regression, alpha: 0.01, iters: 1000 Accuracy: 0.855 (0.035)\n"
     ]
    }
   ],
   "source": [
    "def k_fold_out_cv(models=[], folds=10):\n",
    "    cv = KFold(n_splits=10)\n",
    "    for model in models:\n",
    "        scores = cross_val_score(model, X_np, y_np, scoring='accuracy', cv=cv, n_jobs=-1)\n",
    "        print('Model: %s Accuracy: %.3f (%.3f)' % (model, mean(scores), std(scores)))\n",
    "\n",
    "k_fold_out_cv(models)"
   ]
  }
 ],
 "metadata": {
  "kernelspec": {
   "display_name": "Python 3 (ipykernel)",
   "language": "python",
   "name": "python3"
  },
  "language_info": {
   "codemirror_mode": {
    "name": "ipython",
    "version": 3
   },
   "file_extension": ".py",
   "mimetype": "text/x-python",
   "name": "python",
   "nbconvert_exporter": "python",
   "pygments_lexer": "ipython3",
   "version": "3.9.12"
  },
  "papermill": {
   "default_parameters": {},
   "duration": 134.82076,
   "end_time": "2022-05-07T19:21:44.290842",
   "environment_variables": {},
   "exception": null,
   "input_path": "__notebook__.ipynb",
   "output_path": "__notebook__.ipynb",
   "parameters": {},
   "start_time": "2022-05-07T19:19:29.470082",
   "version": "2.3.4"
  }
 },
 "nbformat": 4,
 "nbformat_minor": 5
}
